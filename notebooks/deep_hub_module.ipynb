{
 "cells": [
  {
   "cell_type": "markdown",
   "metadata": {},
   "source": [
    "# Essential a python class encapsulating deep hub\n",
    "\n",
    "advantages of a module.\n",
    "- easy to reference what needs to be shut down\n",
    "- referene attaching volume\n",
    "- reference running script against \n",
    "- build later statistics on"
   ]
  },
  {
   "cell_type": "code",
   "execution_count": 1,
   "metadata": {},
   "outputs": [],
   "source": [
    "import boto3\n"
   ]
  },
  {
   "cell_type": "code",
   "execution_count": 2,
   "metadata": {},
   "outputs": [
    {
     "ename": "IndentationError",
     "evalue": "expected an indented block (<ipython-input-2-a3a1509d214a>, line 60)",
     "output_type": "error",
     "traceback": [
      "\u001b[1;36m  File \u001b[1;32m\"<ipython-input-2-a3a1509d214a>\"\u001b[1;36m, line \u001b[1;32m60\u001b[0m\n\u001b[1;33m    def attach_volume(volume_id):\u001b[0m\n\u001b[1;37m      ^\u001b[0m\n\u001b[1;31mIndentationError\u001b[0m\u001b[1;31m:\u001b[0m expected an indented block\n"
     ]
    }
   ],
   "source": [
    "class DeepHubSpotInstance:\n",
    "    def __init__(self, limit_price, ami, key_name, instance_type, security_group_id, availability_zone, iam_role):\n",
    "        self.limit_price = limit_price\n",
    "        self.ami = ami\n",
    "        self.key_name = key_name\n",
    "        self.instance_type = instance_type\n",
    "        self.security_group_id = security_group_id\n",
    "        self.availability_zone = availability_zone\n",
    "        self.client_token = str(random.randint(0,1000000))\n",
    "        self.iam_role = iam_role\n",
    "        self.spot_req_id = None\n",
    "        self.client = boto3.client('ec2')\n",
    "        \n",
    "    \n",
    "    def start():\n",
    "        try:\n",
    "            response = self.client.request_spot_instances(\n",
    "                DryRun=False,\n",
    "                SpotPrice=self.limit_price,\n",
    "                ClientToken=self.client_token,\n",
    "                InstanceCount=1,\n",
    "                Type='one-time',\n",
    "                LaunchSpecification={\n",
    "                    'ImageId': self.ami,\n",
    "                    'KeyName': self.key_name,\n",
    "                    'InstanceType': self.instance_type,\n",
    "                    'Placement': {\n",
    "                        'AvailabilityZone': self.availability_zone,\n",
    "                    },\n",
    "                    'EbsOptimized': False,\n",
    "                    'Monitoring': {\n",
    "                        'Enabled': False\n",
    "                    },\n",
    "                    'SecurityGroupIds': [\n",
    "                        self.security_group_id ,\n",
    "                    ],\n",
    "                    'IamInstanceProfile': {\n",
    "                    'Arn': self.iam_role ,\n",
    "                    }\n",
    "                }\n",
    "            )\n",
    "            self.spot_req_id = response['SpotInstanceRequestId']\n",
    "        except Exception as e:\n",
    "            raise e\n",
    "    \n",
    "    def is_ready():\n",
    "        if self.spot_req_id is None:\n",
    "            return False\n",
    "        else:\n",
    "            resp = client.describe_spot_instance_requests(SpotInstanceRequestIds=[self.spot_req_id])\n",
    "            reqs = resp['SpotInstanceRequests'][0]\n",
    "            if reqs['Status']['Code'] == 'fulfilled':\n",
    "                return True\n",
    "            else:\n",
    "                return False\n",
    "                \n",
    "    def stop():\n",
    "        \n",
    "        \n",
    "    def attach_volume(volume_id):\n",
    "        pass\n",
    "    \n",
    "    def run_command(cmd):\n",
    "        pass\n",
    "    \n",
    "    "
   ]
  },
  {
   "cell_type": "code",
   "execution_count": 3,
   "metadata": {},
   "outputs": [],
   "source": [
    "import webbrowser"
   ]
  },
  {
   "cell_type": "code",
   "execution_count": 15,
   "metadata": {},
   "outputs": [
    {
     "ename": "Error",
     "evalue": "could not locate runnable browser",
     "output_type": "error",
     "traceback": [
      "\u001b[1;31m---------------------------------------------------------------------------\u001b[0m",
      "\u001b[1;31mError\u001b[0m                                     Traceback (most recent call last)",
      "\u001b[1;32m<ipython-input-15-5d28826c56cb>\u001b[0m in \u001b[0;36m<module>\u001b[1;34m()\u001b[0m\n\u001b[1;32m----> 1\u001b[1;33m \u001b[0mc\u001b[0m \u001b[1;33m=\u001b[0m \u001b[0mwebbrowser\u001b[0m\u001b[1;33m.\u001b[0m\u001b[0mget\u001b[0m\u001b[1;33m(\u001b[0m\u001b[1;34m'google'\u001b[0m\u001b[1;33m)\u001b[0m\u001b[1;33m\u001b[0m\u001b[0m\n\u001b[0m",
      "\u001b[1;32mc:\\users\\crisyp\\appdata\\local\\programs\\python\\python36\\lib\\webbrowser.py\u001b[0m in \u001b[0;36mget\u001b[1;34m(using)\u001b[0m\n\u001b[0;32m     49\u001b[0m             \u001b[1;32melif\u001b[0m \u001b[0mcommand\u001b[0m\u001b[1;33m[\u001b[0m\u001b[1;36m0\u001b[0m\u001b[1;33m]\u001b[0m \u001b[1;32mis\u001b[0m \u001b[1;32mnot\u001b[0m \u001b[1;32mNone\u001b[0m\u001b[1;33m:\u001b[0m\u001b[1;33m\u001b[0m\u001b[0m\n\u001b[0;32m     50\u001b[0m                 \u001b[1;32mreturn\u001b[0m \u001b[0mcommand\u001b[0m\u001b[1;33m[\u001b[0m\u001b[1;36m0\u001b[0m\u001b[1;33m]\u001b[0m\u001b[1;33m(\u001b[0m\u001b[1;33m)\u001b[0m\u001b[1;33m\u001b[0m\u001b[0m\n\u001b[1;32m---> 51\u001b[1;33m     \u001b[1;32mraise\u001b[0m \u001b[0mError\u001b[0m\u001b[1;33m(\u001b[0m\u001b[1;34m\"could not locate runnable browser\"\u001b[0m\u001b[1;33m)\u001b[0m\u001b[1;33m\u001b[0m\u001b[0m\n\u001b[0m\u001b[0;32m     52\u001b[0m \u001b[1;33m\u001b[0m\u001b[0m\n\u001b[0;32m     53\u001b[0m \u001b[1;31m# Please note: the following definition hides a builtin function.\u001b[0m\u001b[1;33m\u001b[0m\u001b[1;33m\u001b[0m\u001b[0m\n",
      "\u001b[1;31mError\u001b[0m: could not locate runnable browser"
     ]
    }
   ],
   "source": [
    "c = webbrowser.get('google')"
   ]
  },
  {
   "cell_type": "code",
   "execution_count": 11,
   "metadata": {},
   "outputs": [
    {
     "data": {
      "text/plain": [
       "False"
      ]
     },
     "execution_count": 11,
     "metadata": {},
     "output_type": "execute_result"
    }
   ],
   "source": [
    "c.open('yahoo.co.uk')"
   ]
  },
  {
   "cell_type": "code",
   "execution_count": null,
   "metadata": {},
   "outputs": [],
   "source": []
  }
 ],
 "metadata": {
  "kernelspec": {
   "display_name": "Python 3",
   "language": "python",
   "name": "python3"
  },
  "language_info": {
   "codemirror_mode": {
    "name": "ipython",
    "version": 3
   },
   "file_extension": ".py",
   "mimetype": "text/x-python",
   "name": "python",
   "nbconvert_exporter": "python",
   "pygments_lexer": "ipython3",
   "version": "3.6.4"
  }
 },
 "nbformat": 4,
 "nbformat_minor": 2
}
