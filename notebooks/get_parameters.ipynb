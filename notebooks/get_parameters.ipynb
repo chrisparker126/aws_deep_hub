{
 "cells": [
  {
   "cell_type": "code",
   "execution_count": 1,
   "metadata": {},
   "outputs": [],
   "source": [
    "import boto3"
   ]
  },
  {
   "cell_type": "code",
   "execution_count": 2,
   "metadata": {},
   "outputs": [],
   "source": [
    "client = boto3.client('ec2')"
   ]
  },
  {
   "cell_type": "code",
   "execution_count": 3,
   "metadata": {},
   "outputs": [],
   "source": [
    "vpc = client.describe_vpcs()"
   ]
  },
  {
   "cell_type": "code",
   "execution_count": 4,
   "metadata": {},
   "outputs": [
    {
     "data": {
      "text/plain": [
       "dict_keys(['Vpcs', 'ResponseMetadata'])"
      ]
     },
     "execution_count": 4,
     "metadata": {},
     "output_type": "execute_result"
    }
   ],
   "source": [
    "vpc.keys()"
   ]
  },
  {
   "cell_type": "code",
   "execution_count": 5,
   "metadata": {},
   "outputs": [
    {
     "data": {
      "text/plain": [
       "[{'CidrBlock': '172.31.0.0/16',\n",
       "  'CidrBlockAssociationSet': [{'AssociationId': 'vpc-cidr-assoc-2d8a1c46',\n",
       "    'CidrBlock': '172.31.0.0/16',\n",
       "    'CidrBlockState': {'State': 'associated'}}],\n",
       "  'DhcpOptionsId': 'dopt-9f21fbf9',\n",
       "  'InstanceTenancy': 'default',\n",
       "  'IsDefault': True,\n",
       "  'State': 'available',\n",
       "  'VpcId': 'vpc-cc3740aa'}]"
      ]
     },
     "execution_count": 5,
     "metadata": {},
     "output_type": "execute_result"
    }
   ],
   "source": [
    "vpc['Vpcs']"
   ]
  },
  {
   "cell_type": "code",
   "execution_count": 6,
   "metadata": {},
   "outputs": [
    {
     "data": {
      "text/plain": [
       "'vpc-cc3740aa'"
      ]
     },
     "execution_count": 6,
     "metadata": {},
     "output_type": "execute_result"
    }
   ],
   "source": [
    "vpc['Vpcs'][0]['VpcId']"
   ]
  },
  {
   "cell_type": "code",
   "execution_count": 7,
   "metadata": {},
   "outputs": [],
   "source": [
    "images = client.describe_images(Owners=['self'])"
   ]
  },
  {
   "cell_type": "code",
   "execution_count": 8,
   "metadata": {},
   "outputs": [
    {
     "data": {
      "text/plain": [
       "{'Architecture': 'x86_64',\n",
       " 'BlockDeviceMappings': [{'DeviceName': '/dev/sda1',\n",
       "   'Ebs': {'DeleteOnTermination': True,\n",
       "    'Encrypted': False,\n",
       "    'SnapshotId': 'snap-00985465f1a74f668',\n",
       "    'VolumeSize': 100,\n",
       "    'VolumeType': 'standard'}}],\n",
       " 'CreationDate': '2018-06-01T17:35:11.000Z',\n",
       " 'Description': '[Copied ami-2dc6f954 from eu-west-1] cpu_with_keras_retinanet',\n",
       " 'EnaSupport': True,\n",
       " 'Hypervisor': 'xen',\n",
       " 'ImageId': 'ami-051fd589759f16b6c',\n",
       " 'ImageLocation': '272317939526/cpu_with_keras_retinanet_mine',\n",
       " 'ImageType': 'machine',\n",
       " 'Name': 'cpu_with_keras_retinanet_mine',\n",
       " 'OwnerId': '272317939526',\n",
       " 'Public': False,\n",
       " 'RootDeviceName': '/dev/sda1',\n",
       " 'RootDeviceType': 'ebs',\n",
       " 'SriovNetSupport': 'simple',\n",
       " 'State': 'available',\n",
       " 'VirtualizationType': 'hvm'}"
      ]
     },
     "execution_count": 8,
     "metadata": {},
     "output_type": "execute_result"
    }
   ],
   "source": [
    "images['Images'][1]"
   ]
  },
  {
   "cell_type": "code",
   "execution_count": 9,
   "metadata": {},
   "outputs": [
    {
     "data": {
      "text/plain": [
       "[('ami-071ed35cc0c7430ea', 'deep_learning_gpu_2_mine'),\n",
       " ('ami-076082b5015cd07ff', 'deep gpu new'),\n",
       " ('ami-0ad5ae4c36e1e80ef', 'deep gpu with open pose'),\n",
       " ('ami-0dacedf384f311eb2', 'p3_gpu')]"
      ]
     },
     "execution_count": 9,
     "metadata": {},
     "output_type": "execute_result"
    }
   ],
   "source": [
    "[ (image['ImageId'], image['Name']) for image in images['Images'] if 'gpu' in image['Name'] ]"
   ]
  },
  {
   "cell_type": "markdown",
   "metadata": {},
   "source": [
    "# let see if we can view volumes"
   ]
  },
  {
   "cell_type": "code",
   "execution_count": 10,
   "metadata": {},
   "outputs": [],
   "source": [
    "volumes = client.describe_volumes()"
   ]
  },
  {
   "cell_type": "code",
   "execution_count": 11,
   "metadata": {},
   "outputs": [
    {
     "data": {
      "text/plain": [
       "dict_keys(['Volumes', 'ResponseMetadata'])"
      ]
     },
     "execution_count": 11,
     "metadata": {},
     "output_type": "execute_result"
    }
   ],
   "source": [
    "volumes.keys()"
   ]
  },
  {
   "cell_type": "code",
   "execution_count": 12,
   "metadata": {},
   "outputs": [
    {
     "data": {
      "text/plain": [
       "[{'Attachments': [],\n",
       "  'AvailabilityZone': 'eu-west-1b',\n",
       "  'CreateTime': datetime.datetime(2018, 6, 24, 8, 4, 10, 598000, tzinfo=tzutc()),\n",
       "  'Encrypted': False,\n",
       "  'Size': 400,\n",
       "  'SnapshotId': 'snap-00d7c44b6c1f27940',\n",
       "  'State': 'available',\n",
       "  'VolumeId': 'vol-0cf697d8b22f79923',\n",
       "  'VolumeType': 'standard'}]"
      ]
     },
     "execution_count": 12,
     "metadata": {},
     "output_type": "execute_result"
    }
   ],
   "source": [
    "volumes['Volumes']"
   ]
  },
  {
   "cell_type": "code",
   "execution_count": 13,
   "metadata": {},
   "outputs": [],
   "source": [
    "sec = client.describe_security_groups()"
   ]
  },
  {
   "cell_type": "code",
   "execution_count": 14,
   "metadata": {},
   "outputs": [
    {
     "data": {
      "text/plain": [
       "dict_keys(['SecurityGroups', 'ResponseMetadata'])"
      ]
     },
     "execution_count": 14,
     "metadata": {},
     "output_type": "execute_result"
    }
   ],
   "source": [
    "sec.keys()"
   ]
  },
  {
   "cell_type": "code",
   "execution_count": 15,
   "metadata": {},
   "outputs": [
    {
     "data": {
      "text/plain": [
       "{'Description': 'launch-wizard-5 created 2018-06-01T23:26:09.911+01:00',\n",
       " 'GroupId': 'sg-0123fe0138e057052',\n",
       " 'GroupName': 'deep-learning',\n",
       " 'IpPermissions': [{'FromPort': 8888,\n",
       "   'IpProtocol': 'tcp',\n",
       "   'IpRanges': [{'CidrIp': '0.0.0.0/0'}],\n",
       "   'Ipv6Ranges': [],\n",
       "   'PrefixListIds': [],\n",
       "   'ToPort': 8888,\n",
       "   'UserIdGroupPairs': []},\n",
       "  {'FromPort': 22,\n",
       "   'IpProtocol': 'tcp',\n",
       "   'IpRanges': [{'CidrIp': '0.0.0.0/0'}],\n",
       "   'Ipv6Ranges': [],\n",
       "   'PrefixListIds': [],\n",
       "   'ToPort': 22,\n",
       "   'UserIdGroupPairs': []}],\n",
       " 'IpPermissionsEgress': [{'IpProtocol': '-1',\n",
       "   'IpRanges': [{'CidrIp': '0.0.0.0/0'}],\n",
       "   'Ipv6Ranges': [],\n",
       "   'PrefixListIds': [],\n",
       "   'UserIdGroupPairs': []}],\n",
       " 'OwnerId': '272317939526',\n",
       " 'VpcId': 'vpc-cc3740aa'}"
      ]
     },
     "execution_count": 15,
     "metadata": {},
     "output_type": "execute_result"
    }
   ],
   "source": [
    "sec['SecurityGroups'][0]"
   ]
  },
  {
   "cell_type": "markdown",
   "metadata": {},
   "source": [
    "# Launch an instance"
   ]
  },
  {
   "cell_type": "code",
   "execution_count": 16,
   "metadata": {},
   "outputs": [
    {
     "data": {
      "text/plain": [
       "'244192'"
      ]
     },
     "execution_count": 16,
     "metadata": {},
     "output_type": "execute_result"
    }
   ],
   "source": [
    "import random\n",
    "str(random.randint(0,1000000))"
   ]
  },
  {
   "cell_type": "code",
   "execution_count": 17,
   "metadata": {},
   "outputs": [],
   "source": [
    "def launch_spot_instance(limit_price, ami, key_name, instance_type, security_group_id, availability_zone):\n",
    "    try:\n",
    "        response = client.request_spot_instances(\n",
    "            DryRun=False,\n",
    "            SpotPrice=limit_price,\n",
    "            ClientToken=str(random.randint(0,1000000)),\n",
    "            InstanceCount=1,\n",
    "            Type='one-time',\n",
    "            LaunchSpecification={\n",
    "                'ImageId': ami,\n",
    "                'KeyName': key_name,\n",
    "                'InstanceType': instance_type,\n",
    "                'Placement': {\n",
    "                    'AvailabilityZone': availability_zone,\n",
    "                },\n",
    "                'EbsOptimized': False,\n",
    "                'Monitoring': {\n",
    "                    'Enabled': False\n",
    "                },\n",
    "                'SecurityGroupIds': [\n",
    "                    security_group_id ,\n",
    "                ]\n",
    "            }\n",
    "        )\n",
    "        return response\n",
    "    except Exception as e:\n",
    "        raise e"
   ]
  },
  {
   "cell_type": "code",
   "execution_count": 18,
   "metadata": {},
   "outputs": [],
   "source": [
    "response = launch_spot_instance('1.0', ami='ami-0ad5ae4c36e1e80ef', key_name='crispy2', security_group_id='sg-0123fe0138e057052', \\\n",
    "                    instance_type='p2.xlarge', availability_zone='eu-west-1b')"
   ]
  },
  {
   "cell_type": "code",
   "execution_count": 19,
   "metadata": {},
   "outputs": [
    {
     "data": {
      "text/plain": [
       "{'ResponseMetadata': {'HTTPHeaders': {'content-type': 'text/xml;charset=UTF-8',\n",
       "   'date': 'Tue, 10 Jul 2018 06:50:07 GMT',\n",
       "   'server': 'AmazonEC2',\n",
       "   'transfer-encoding': 'chunked',\n",
       "   'vary': 'Accept-Encoding'},\n",
       "  'HTTPStatusCode': 200,\n",
       "  'RequestId': '3c8b9db4-cdb5-40e3-b0c6-9b24866a4fdf',\n",
       "  'RetryAttempts': 0},\n",
       " 'SpotInstanceRequests': [{'CreateTime': datetime.datetime(2018, 7, 10, 6, 50, 7, tzinfo=tzutc()),\n",
       "   'InstanceInterruptionBehavior': 'terminate',\n",
       "   'LaunchSpecification': {'EbsOptimized': False,\n",
       "    'ImageId': 'ami-0ad5ae4c36e1e80ef',\n",
       "    'InstanceType': 'p2.xlarge',\n",
       "    'KeyName': 'crispy2',\n",
       "    'Monitoring': {'Enabled': False},\n",
       "    'Placement': {'AvailabilityZone': 'eu-west-1b'},\n",
       "    'SecurityGroups': [{'GroupId': 'sg-0123fe0138e057052',\n",
       "      'GroupName': 'deep-learning'}],\n",
       "    'SubnetId': 'subnet-65996f3f'},\n",
       "   'ProductDescription': 'Linux/UNIX',\n",
       "   'SpotInstanceRequestId': 'sir-cf2g6frm',\n",
       "   'SpotPrice': '1.000000',\n",
       "   'State': 'open',\n",
       "   'Status': {'Code': 'pending-evaluation',\n",
       "    'Message': 'Your Spot request has been submitted for review, and is pending evaluation.',\n",
       "    'UpdateTime': datetime.datetime(2018, 7, 10, 6, 50, 7, tzinfo=tzutc())},\n",
       "   'Type': 'one-time'}]}"
      ]
     },
     "execution_count": 19,
     "metadata": {},
     "output_type": "execute_result"
    }
   ],
   "source": [
    "response"
   ]
  },
  {
   "cell_type": "code",
   "execution_count": 79,
   "metadata": {},
   "outputs": [
    {
     "data": {
      "text/plain": [
       "{'ResponseMetadata': {'HTTPHeaders': {'content-length': '1916',\n",
       "   'content-type': 'text/xml;charset=UTF-8',\n",
       "   'date': 'Mon, 09 Jul 2018 09:57:06 GMT',\n",
       "   'server': 'AmazonEC2'},\n",
       "  'HTTPStatusCode': 200,\n",
       "  'RequestId': '3d0acd6f-8e9d-4929-a52b-e165e5f0ca21',\n",
       "  'RetryAttempts': 0},\n",
       " 'SpotInstanceRequests': [{'CreateTime': datetime.datetime(2018, 7, 9, 9, 56, 47, tzinfo=tzutc()),\n",
       "   'InstanceId': 'i-0718e02cbe9d4fa83',\n",
       "   'InstanceInterruptionBehavior': 'terminate',\n",
       "   'LaunchSpecification': {'EbsOptimized': False,\n",
       "    'ImageId': 'ami-051fd589759f16b6c',\n",
       "    'InstanceType': 'm5d.large',\n",
       "    'KeyName': 'crispy2',\n",
       "    'Monitoring': {'Enabled': False},\n",
       "    'Placement': {'AvailabilityZone': 'eu-west-1b'},\n",
       "    'SecurityGroups': [{'GroupId': 'sg-0123fe0138e057052',\n",
       "      'GroupName': 'deep-learning'}],\n",
       "    'SubnetId': 'subnet-65996f3f'},\n",
       "   'LaunchedAvailabilityZone': 'eu-west-1b',\n",
       "   'ProductDescription': 'Linux/UNIX',\n",
       "   'SpotInstanceRequestId': 'sir-rb1g49im',\n",
       "   'SpotPrice': '0.100000',\n",
       "   'State': 'active',\n",
       "   'Status': {'Code': 'fulfilled',\n",
       "    'Message': 'Your spot request is fulfilled.',\n",
       "    'UpdateTime': datetime.datetime(2018, 7, 9, 9, 56, 49, tzinfo=tzutc())},\n",
       "   'Type': 'one-time',\n",
       "   'ValidUntil': datetime.datetime(2018, 7, 16, 9, 56, 47, tzinfo=tzutc())}]}"
      ]
     },
     "execution_count": 79,
     "metadata": {},
     "output_type": "execute_result"
    }
   ],
   "source": [
    "client.describe_spot_instance_requests(SpotInstanceRequestIds=['sir-rb1g49im'])"
   ]
  },
  {
   "cell_type": "markdown",
   "metadata": {},
   "source": [
    "# lets see if we can mount a volume"
   ]
  },
  {
   "cell_type": "code",
   "execution_count": 80,
   "metadata": {},
   "outputs": [],
   "source": [
    "response = client.attach_volume(Device='/dev/xvdh', InstanceId='i-0718e02cbe9d4fa83', VolumeId='vol-0cf697d8b22f79923')"
   ]
  },
  {
   "cell_type": "code",
   "execution_count": 81,
   "metadata": {},
   "outputs": [
    {
     "data": {
      "text/plain": [
       "{'AttachTime': datetime.datetime(2018, 7, 9, 9, 57, 29, 423000, tzinfo=tzutc()),\n",
       " 'Device': '/dev/xvdh',\n",
       " 'InstanceId': 'i-0718e02cbe9d4fa83',\n",
       " 'ResponseMetadata': {'HTTPHeaders': {'content-type': 'text/xml;charset=UTF-8',\n",
       "   'date': 'Mon, 09 Jul 2018 09:57:28 GMT',\n",
       "   'server': 'AmazonEC2',\n",
       "   'transfer-encoding': 'chunked',\n",
       "   'vary': 'Accept-Encoding'},\n",
       "  'HTTPStatusCode': 200,\n",
       "  'RequestId': 'b8a8b2ca-757a-4ce8-917c-ca55ac32e062',\n",
       "  'RetryAttempts': 0},\n",
       " 'State': 'attaching',\n",
       " 'VolumeId': 'vol-0cf697d8b22f79923'}"
      ]
     },
     "execution_count": 81,
     "metadata": {},
     "output_type": "execute_result"
    }
   ],
   "source": [
    "response"
   ]
  },
  {
   "cell_type": "code",
   "execution_count": 82,
   "metadata": {},
   "outputs": [
    {
     "data": {
      "text/plain": [
       "{'ResponseMetadata': {'HTTPHeaders': {'content-type': 'text/xml;charset=UTF-8',\n",
       "   'date': 'Mon, 09 Jul 2018 09:57:33 GMT',\n",
       "   'server': 'AmazonEC2',\n",
       "   'transfer-encoding': 'chunked',\n",
       "   'vary': 'Accept-Encoding'},\n",
       "  'HTTPStatusCode': 200,\n",
       "  'RequestId': '6912e8f0-76cb-41f0-9363-7f0ff8b43efb',\n",
       "  'RetryAttempts': 0},\n",
       " 'Volumes': [{'Attachments': [{'AttachTime': datetime.datetime(2018, 7, 9, 9, 57, 29, tzinfo=tzutc()),\n",
       "     'DeleteOnTermination': False,\n",
       "     'Device': '/dev/xvdh',\n",
       "     'InstanceId': 'i-0718e02cbe9d4fa83',\n",
       "     'State': 'attached',\n",
       "     'VolumeId': 'vol-0cf697d8b22f79923'}],\n",
       "   'AvailabilityZone': 'eu-west-1b',\n",
       "   'CreateTime': datetime.datetime(2018, 6, 24, 8, 4, 10, 598000, tzinfo=tzutc()),\n",
       "   'Encrypted': False,\n",
       "   'Size': 400,\n",
       "   'SnapshotId': 'snap-00d7c44b6c1f27940',\n",
       "   'State': 'in-use',\n",
       "   'VolumeId': 'vol-0cf697d8b22f79923',\n",
       "   'VolumeType': 'standard'}]}"
      ]
     },
     "execution_count": 82,
     "metadata": {},
     "output_type": "execute_result"
    }
   ],
   "source": [
    "client.describe_volumes(VolumeIds=['vol-0cf697d8b22f79923'])"
   ]
  },
  {
   "cell_type": "markdown",
   "metadata": {},
   "source": [
    "# now lets start up jupyter notebook in a desired location"
   ]
  },
  {
   "cell_type": "code",
   "execution_count": 83,
   "metadata": {},
   "outputs": [],
   "source": [
    "ssm_client = boto3.client('ssm')"
   ]
  },
  {
   "cell_type": "code",
   "execution_count": 145,
   "metadata": {},
   "outputs": [],
   "source": [
    "resp = ssm_client.send_command(\n",
    "    DocumentName=\"AWS-RunShellScript\", # One of AWS' preconfigured documents\n",
    "    Parameters={'commands': ['cd /data/su_buildup', 'sudo -H -u ubuntu jupyter notebook &']},\n",
    "    InstanceIds=['i-0718e02cbe9d4fa83']\n",
    ")"
   ]
  },
  {
   "cell_type": "code",
   "execution_count": 146,
   "metadata": {},
   "outputs": [
    {
     "data": {
      "text/plain": [
       "'3a253ee4-5611-4c92-9e28-c971c98bda16'"
      ]
     },
     "execution_count": 146,
     "metadata": {},
     "output_type": "execute_result"
    }
   ],
   "source": [
    "resp['Command']['CommandId']"
   ]
  },
  {
   "cell_type": "code",
   "execution_count": 167,
   "metadata": {},
   "outputs": [],
   "source": [
    "cmi = ssm_client.get_command_invocation(CommandId=resp['Command']['CommandId'], InstanceId='i-0718e02cbe9d4fa83')"
   ]
  },
  {
   "cell_type": "code",
   "execution_count": 168,
   "metadata": {},
   "outputs": [
    {
     "data": {
      "text/plain": [
       "{'CloudWatchOutputConfig': {'CloudWatchLogGroupName': '',\n",
       "  'CloudWatchOutputEnabled': False},\n",
       " 'CommandId': '3a253ee4-5611-4c92-9e28-c971c98bda16',\n",
       " 'Comment': '',\n",
       " 'DocumentName': 'AWS-RunShellScript',\n",
       " 'DocumentVersion': '',\n",
       " 'ExecutionEndDateTime': '',\n",
       " 'InstanceId': 'i-0718e02cbe9d4fa83',\n",
       " 'PluginName': 'aws:runShellScript',\n",
       " 'ResponseCode': -1,\n",
       " 'ResponseMetadata': {'HTTPHeaders': {'content-length': '471',\n",
       "   'content-type': 'application/x-amz-json-1.1',\n",
       "   'date': 'Mon, 09 Jul 2018 10:55:14 GMT',\n",
       "   'x-amzn-requestid': '542cc7ba-ce5b-4620-b480-ef94b416dcda'},\n",
       "  'HTTPStatusCode': 200,\n",
       "  'RequestId': '542cc7ba-ce5b-4620-b480-ef94b416dcda',\n",
       "  'RetryAttempts': 0},\n",
       " 'StandardErrorContent': '',\n",
       " 'StandardErrorUrl': '',\n",
       " 'StandardOutputContent': '',\n",
       " 'StandardOutputUrl': '',\n",
       " 'Status': 'InProgress',\n",
       " 'StatusDetails': 'InProgress'}"
      ]
     },
     "execution_count": 168,
     "metadata": {},
     "output_type": "execute_result"
    }
   ],
   "source": [
    "cmi"
   ]
  },
  {
   "cell_type": "code",
   "execution_count": null,
   "metadata": {},
   "outputs": [],
   "source": []
  }
 ],
 "metadata": {
  "kernelspec": {
   "display_name": "Python 3",
   "language": "python",
   "name": "python3"
  },
  "language_info": {
   "codemirror_mode": {
    "name": "ipython",
    "version": 3
   },
   "file_extension": ".py",
   "mimetype": "text/x-python",
   "name": "python",
   "nbconvert_exporter": "python",
   "pygments_lexer": "ipython3",
   "version": "3.6.4"
  }
 },
 "nbformat": 4,
 "nbformat_minor": 2
}
